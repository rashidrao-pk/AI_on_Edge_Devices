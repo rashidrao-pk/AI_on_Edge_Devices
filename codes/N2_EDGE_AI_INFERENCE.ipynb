{
 "cells": [
  {
   "cell_type": "markdown",
   "id": "01a2703f",
   "metadata": {},
   "source": [
    "# INFERENCE OF MACHINE LEARNING TASKS ON EDGE DEVICES\n",
    " - This Notebook is used to train and test Machine Learning models\n",
    " - The code is partially borrowed from [LINK](https://machinelearningmastery.com/how-to-develop-a-cnn-from-scratch-for-cifar-10-photo-classification/)\n"
   ]
  },
  {
   "cell_type": "markdown",
   "id": "340dc7a6",
   "metadata": {},
   "source": [
    "## Testing ML Models"
   ]
  },
  {
   "cell_type": "markdown",
   "id": "05673bd5",
   "metadata": {},
   "source": [
    "# Import Libraries"
   ]
  },
  {
   "cell_type": "code",
   "execution_count": 1,
   "id": "5272a149-62e0-4b05-bca2-1d40b2d32383",
   "metadata": {},
   "outputs": [],
   "source": [
    "import os\n",
    "import sys\n",
    "import cv2\n",
    "import time\n",
    "import numpy as np\n",
    "import pandas as pd\n",
    "\n",
    "import tensorflow as tf\n",
    "from collections import deque\n"
   ]
  },
  {
   "cell_type": "code",
   "execution_count": 2,
   "id": "375b4596",
   "metadata": {},
   "outputs": [],
   "source": [
    "from utils import *\n"
   ]
  },
  {
   "cell_type": "code",
   "execution_count": 3,
   "id": "81ee929c",
   "metadata": {},
   "outputs": [],
   "source": [
    "sys.argv = [\n",
    "    'inference.py',                \n",
    "    '--cam',          'webcam',\n",
    "    '--flipcam','False',\n",
    "    '--dataset',      'cifar10',\n",
    "    '--model_name',   'custom',\n",
    "    '--train_model',  'True',         \n",
    "    '--epochs',       '50',               \n",
    "    '--lr',           '0.005',                 \n",
    "    '--batch_size',   '64',            \n",
    "    '--path_models',  'models',    \n",
    "    '--path_results', 'results',    \n",
    "    '--verbose',      'True',\n",
    "]"
   ]
  },
  {
   "cell_type": "code",
   "execution_count": 4,
   "id": "46d9cfb1",
   "metadata": {},
   "outputs": [],
   "source": [
    "import argparse\n",
    "\n",
    "parser = argparse.ArgumentParser()\n",
    "parser.add_argument('--train_model',  type=bool,  default=True,     help='Set to True to train the model.')\n",
    "parser.add_argument('--cam',          type=str,   default='webcam', help='Camera to be used.')\n",
    "parser.add_argument('--flipcam',          type=bool,   default=False, help='Camera to be used.')\n",
    "parser.add_argument('--dataset',      type=str,   default='cifar10',help='Camera to be used.')\n",
    "parser.add_argument('--model_name',   type=str,   default='custom', help='Model to be used.')\n",
    "parser.add_argument('--epochs',       type=int,   default=50,       help='Number of epochs for training.')\n",
    "parser.add_argument('--lr',           type=float, default=0.005,    help='Learning rate for the optimizer.')\n",
    "parser.add_argument('--batch_size',   type=int,   default=32,       help='Batch size for training.')\n",
    "parser.add_argument('--path_models',  type=str,   required=True,    help='Path to tarined models.')\n",
    "parser.add_argument('--path_results', type=str,   required=True,    help='Path to save/saved results.')\n",
    "parser.add_argument('--verbose',      type=bool,  required=True,    help='show progress.')\n",
    "args = parser.parse_args()\n"
   ]
  },
  {
   "cell_type": "code",
   "execution_count": 5,
   "id": "e0a68247",
   "metadata": {},
   "outputs": [],
   "source": [
    "dataset_manager = DatasetManager(dataset_name='cifar10',preprocess_data=True)\n",
    "class_names = dataset_manager.get_class_names()"
   ]
  },
  {
   "cell_type": "markdown",
   "id": "a588a0c8",
   "metadata": {},
   "source": [
    "## Load Model"
   ]
  },
  {
   "cell_type": "code",
   "execution_count": 6,
   "id": "6154ade1-9f35-4628-a685-eb1730a0ca67",
   "metadata": {},
   "outputs": [
    {
     "name": "stdout",
     "output_type": "stream",
     "text": [
      "------------------------------------------------------------------------------------------------------------------------\n",
      "model loaded for :50 epochs & learn_rate: 0.005\n",
      "------------------------------------------------------------------------------------------------------------------------\n"
     ]
    }
   ],
   "source": [
    "model_name = f'{args.path_models}/Resnet_pretrained_{args.epochs}_{args.lr}.keras'\n",
    "if os.path.exists(model_name):\n",
    "    model = tf.keras.models.load_model(model_name)\n",
    "    history_df = pd.read_csv(f'{args.path_models}/training_history_{args.epochs}_{args.lr}.csv')\n",
    "    print('-'*120)\n",
    "    print(f'model loaded for :{args.epochs} epochs & learn_rate: {args.lr}')\n",
    "    print('-'*120)\n",
    "else:\n",
    "    print(f'model not found :{args.epochs} epochs & learn_rate: {args.lr}')"
   ]
  },
  {
   "cell_type": "markdown",
   "id": "11aaaec5",
   "metadata": {},
   "source": [
    "## Model Incpection"
   ]
  },
  {
   "cell_type": "code",
   "execution_count": 7,
   "id": "82d55ae2",
   "metadata": {},
   "outputs": [
    {
     "name": "stdout",
     "output_type": "stream",
     "text": [
      "Trainable Parameters           550570\n",
      "Non-Trainable Parameters       0.0\n",
      "Total Parameters:              550570.0\n",
      "Model Size (MB)                2.10\n",
      "Approximate FLOPs              38.90 MFLOPs\n"
     ]
    }
   ],
   "source": [
    "#### PRE TRAINING INSPECTION\n",
    "inspector= Inspection(model)\n",
    "inspector.model_stats(print_summary=False)"
   ]
  },
  {
   "cell_type": "markdown",
   "id": "eafd4d7a",
   "metadata": {},
   "source": [
    "## Getting Ready for Inference"
   ]
  },
  {
   "cell_type": "code",
   "execution_count": 8,
   "id": "9f45057e",
   "metadata": {},
   "outputs": [],
   "source": [
    "infer = Inference(dataset_name='cifar10', model=model)"
   ]
  },
  {
   "cell_type": "markdown",
   "id": "223fba5d",
   "metadata": {},
   "source": [
    "## Transfer Converted Model and Inference Code to Raspberry Pi"
   ]
  },
  {
   "cell_type": "code",
   "execution_count": null,
   "id": "e726af23",
   "metadata": {},
   "outputs": [],
   "source": []
  },
  {
   "cell_type": "markdown",
   "id": "c45b0489",
   "metadata": {},
   "source": [
    "## Select Camera Type"
   ]
  },
  {
   "cell_type": "code",
   "execution_count": 11,
   "id": "17363795",
   "metadata": {},
   "outputs": [
    {
     "name": "stdout",
     "output_type": "stream",
     "text": [
      "CAM Type: local           CAM Location: 0                   \n"
     ]
    }
   ],
   "source": [
    "# Use the IP and port displayed in EpocCam or NDI app\n",
    "# iphone_url = \"http://192.168.1.4:4747/video\"\n",
    "args.cam =  'local' # webcam phone, raspi\n",
    "\n",
    "cam_location = 0 if args.cam =='local' else \"http://172.20.10.5:4747/video\"   #http://192.168.1.4:4747/video\n",
    "print(f'CAM Type: {args.cam:<15} CAM Location: {cam_location:<20}')\n"
   ]
  },
  {
   "cell_type": "markdown",
   "id": "6ec0f11f",
   "metadata": {},
   "source": [
    "## Test Camera"
   ]
  },
  {
   "cell_type": "code",
   "execution_count": 12,
   "id": "887c2595",
   "metadata": {},
   "outputs": [],
   "source": [
    "test_camera       = True\n",
    "print_camera_info = False\n",
    "\n",
    "args.flipcam = False\n",
    "if test_camera:\n",
    "    cap = cv2.VideoCapture(cam_location)\n",
    "    while True:\n",
    "        ret, frame = cap.read()\n",
    "        if args.flipcam:\n",
    "            frame = cv2.flip(frame, 1)\n",
    "        if not ret:\n",
    "            print('camera failed or not available')\n",
    "            break\n",
    "        cv2.imshow(\"Webcam Prediction with CIFAR-10 Class Box\", frame)\n",
    "        if cv2.waitKey(1) & 0xFF == ord('q'):\n",
    "            break\n",
    "    cap.release()\n",
    "    cv2.destroyAllWindows()"
   ]
  },
  {
   "cell_type": "code",
   "execution_count": 13,
   "id": "e2752039",
   "metadata": {},
   "outputs": [],
   "source": [
    "from dataclasses import dataclass\n",
    "@dataclass\n",
    "class Parameters:\n",
    "    box_width      : int   = 180\n",
    "    box_height     : int   = 20 * len(class_names) + 40\n",
    "    color_green    : tuple = (0, 255, 0)\n",
    "    color_white    : tuple = (255, 255, 255)\n",
    "    color_black    : tuple = (0, 0, 0)\n",
    "    fps   : int = 0\n",
    "\n",
    "params = Parameters()"
   ]
  },
  {
   "cell_type": "code",
   "execution_count": null,
   "id": "970dbd15",
   "metadata": {},
   "outputs": [],
   "source": [
    "# # Open the video stream\n",
    "# cap = cv2.VideoCapture(iphone_url)\n",
    "\n",
    "cap = cv2.VideoCapture(cam_location)                           # 0 for the primary webcam\n",
    "\n",
    "prev_time = time.time()\n",
    "confidence_history = {label: deque(maxlen=10) for label in class_names}\n",
    "\n",
    "while True:\n",
    "    ret, frame = cap.read()  \n",
    "    if not ret:\n",
    "        print(\"Failed to retrieve frame\")\n",
    "        break\n",
    "    \n",
    "    # Predict on the captured frame\n",
    "    predictions = infer.predict_frame(frame)\n",
    "    if args.flipcam:\n",
    "        frame = cv2.flip(frame, 1)\n",
    "    # Update confidence history for each class with smoothing\n",
    "    smooth_confidences = []\n",
    "    for i, label in enumerate(class_names):\n",
    "        confidence_history[label].append(predictions[i])\n",
    "        smooth_conf = np.mean(confidence_history[label])\n",
    "        smooth_confidences.append(smooth_conf)\n",
    "\n",
    "    # Get the top predicted class and its smoothed confidence\n",
    "    class_id = np.argmax(smooth_confidences)\n",
    "    class_name = class_names[class_id]\n",
    "    smooth_confidence = smooth_confidences[class_id]\n",
    "\n",
    "    # Calculate FPS\n",
    "    current_time = time.time()\n",
    "    fps = 1 / (current_time - prev_time)\n",
    "    prev_time = current_time\n",
    "\n",
    "    # Draw semi-transparent box on the left\n",
    "    overlay = frame.copy()\n",
    "    \n",
    "    cv2.rectangle(overlay, (0, 0), (params.box_width, params.box_height), params.color_black, -1)\n",
    "    frame = cv2.addWeighted(overlay, 0.4, frame, 0.6, 0)  # Add transparency\n",
    "\n",
    "    # Display class labels and prediction confidences in the box\n",
    "    for i, (label, smooth_conf) in enumerate(zip(class_names, smooth_confidences)):\n",
    "        text = f\"{label}: {smooth_conf:.2f}\"\n",
    "        y_position = 20 * (i + 1) + 10\n",
    "        color = params.color_green if i == class_id else params.color_white  # Highlight top class\n",
    "        cv2.putText(frame, text, (10, y_position), cv2.FONT_HERSHEY_SIMPLEX, 0.5, color, 1)\n",
    "\n",
    "    # Display the main class prediction, confidence, and FPS on the frame\n",
    "#     text = f\"Top Class: {class_name}, Confidence: {smooth_confidence:.2f}, FPS: {fps:.2f}\"\n",
    "#     cv2.putText(frame, text, (10, box_height + 30), cv2.FONT_HERSHEY_SIMPLEX, 0.6, (0, 255, 0), 2)\n",
    "    \n",
    "    # Show the frame with the prediction, smoothed confidence, and FPS\n",
    "    cv2.imshow(\"Webcam Prediction with CIFAR-10 Class Box\", frame)\n",
    "    \n",
    "    # Break the loop if 'q' is pressed\n",
    "    if cv2.waitKey(1) & 0xFF == ord('q'):\n",
    "        break\n",
    "\n",
    "# Release the webcam and close the window\n",
    "cap.release()\n",
    "cv2.destroyAllWindows()"
   ]
  },
  {
   "cell_type": "markdown",
   "id": "be17c8ba",
   "metadata": {},
   "source": [
    "### Test Images\n",
    "1.  Horse\n",
    "    1. horse1:  https://www.pexels.com/photo/white-horse-on-green-grass-1996333/\n",
    "    2. horse2:  https://as2.ftcdn.net/v2/jpg/01/29/74/59/1000_F_129745961_J6Ok1s791kKBzKolxSjX4qhnNd7NIG4R.jpg\n",
    "2.  Aeroplane:\n",
    "    1. aeroplane1:  https://en.wikipedia.org/wiki/File:Tarom.b737-700.yr-bgg.arp.jpg\n",
    "    2. aeroplane2:  https://en.wikipedia.org/wiki/Fixed-wing_aircraft#/media/File:Flightline_at_Kabul_International_Airport.jpeg\n",
    "3.  Automobile:\n",
    "    1.  automobile1:    https://www.autotrader.co.uk/content/best-ofs/best-sports-cars?refresh=true\n",
    "    2.  automobile2:    https://www.autoscout24.com/offers/volkswagen-tiguan-2-0-tdi-scr-highline-bmt-dsg-impeccable-diesel-grey-b3cb4fc8-5b87-4dad-ba59-ed16e79664de?ipc=recommendation&ipl=homepage-engine-itemBased&position=2&source_otp=t50&ap_tier=t50&source=homepage_most-searched\n",
    "4. CAT:\n",
    "    1.  cat1:   https://as1.ftcdn.net/v2/jpg/08/57/20/34/1000_F_857203400_k46TlOAPZFeojgdw7pZBSkGfoZ3nIecJ.jpg\n",
    "    2.  "
   ]
  },
  {
   "cell_type": "markdown",
   "id": "53b423cc",
   "metadata": {},
   "source": [
    "\n",
    "### Cartonized:\n",
    "1. Bird:        https://www.alamy.com/stock-photo-a-cute-ostrich-bird-animal-cartoon-character-mascot-117780202.html\n",
    "2. Aeroplane:   \n",
    "    1.  aeroplane3: https://www.istockphoto.com/it/vettoriale/aeroplano-blu-isolato-gm1337512445-418375813\n",
    "    2.  aeroplane4: https://www.dreamstime.com/stock-photos-airplane-cartoon-image1301493\n",
    "    \n",
    "3. CAT:\n",
    "    1. https://www.etsy.com/it/listing/1515268716/clipart-gattino-clipart-gatto-clipart?gpla=1&gao=1&&utm_source=google&utm_medium=cpc&utm_campaign=shopping_it_it_it_-craft_supplies_and_tools&utm_custom1=_k_Cj0KCQjw7Py4BhCbARIsAMMx-_IH5QqAM5kCRIaZTbvj3XwLGKBx0uzVmX58iCDHIk1Ir52Rcdhh1IEaApXIEALw_wcB_k_&utm_content=go_21711270902_167738766179_713819064468_pla-295462056867_c__1515268716itit_5296584068&utm_custom2=21711270902&gad_source=1&gclid=Cj0KCQjw7Py4BhCbARIsAMMx-_IH5QqAM5kCRIaZTbvj3XwLGKBx0uzVmX58iCDHIk1Ir52Rcdhh1IEaApXIEALw_wcB\n",
    "    2. https://www.etsy.com/it/listing/1515268716/clipart-gattino-clipart-gatto-clipart?gpla=1&gao=1&&utm_source=google&utm_medium=cpc&utm_campaign=shopping_it_it_it_-craft_supplies_and_tools&utm_custom1=_k_Cj0KCQjw7Py4BhCbARIsAMMx-_IH5QqAM5kCRIaZTbvj3XwLGKBx0uzVmX58iCDHIk1Ir52Rcdhh1IEaApXIEALw_wcB_k_&utm_content=go_21711270902_167738766179_713819064468_pla-295462056867_c__1515268716itit_5296584068&utm_custom2=21711270902&gad_source=1&gclid=Cj0KCQjw7Py4BhCbARIsAMMx-_IH5QqAM5kCRIaZTbvj3XwLGKBx0uzVmX58iCDHIk1Ir52Rcdhh1IEaApXIEALw_wcB\n",
    "    3. https://www.etsy.com/it/listing/1740284019/gatto-con-gattino-clipart-kitten-love?click_key=eb44d6481490c594dfdd4964e05f64784b498aec%3A1740284019&click_sum=78ab052a&external=1&rec_type=cs&ref=pla_similar_listing_top-5&pro=1&sts=1\n",
    "\n",
    "4. Deer:\n",
    "    1. deer1:   https://www.istockphoto.com/it/vettoriale/illustrazione-animale-del-cartone-animato-del-cervo-gm1433501792-475397361\n",
    "    2. deer2:   https://www.istockphoto.com/it/vettoriale/cervo-bruno-felice-con-macchie-e-corna-gm1188403787-336063689\n",
    "    3. deer3:   https://www.istockphoto.com/it/vettoriale/renna-rosso-naso-carino-primo-piano-con-saluti-sfondo-bianco-isolato-cartolina-gm1185723375-334262856\n",
    "\n",
    "5. Dog:\n",
    "    1. dog1:    https://www.etsy.com/it/listing/1659106169/simpatico-cucciolo-di-labrador-retriever?gpla=1&gao=1&&utm_source=google&utm_medium=cpc&utm_campaign=shopping_it_it_it_-art_and_collectibles&utm_custom1=_k_Cj0KCQjw7Py4BhCbARIsAMMx-_Kuj3lSLI7DHWbRtPR3OjskdqaPCD8dYJRDirzi2P5TLoiM5sDln0EaAiZgEALw_wcB_k_&utm_content=go_21711270848_167738764739_713819064414_pla-314954651933_c__1659106169itit_432422386&utm_custom2=21711270848&gad_source=1&gclid=Cj0KCQjw7Py4BhCbARIsAMMx-_Kuj3lSLI7DHWbRtPR3OjskdqaPCD8dYJRDirzi2P5TLoiM5sDln0EaAiZgEALw_wcB\n",
    "    2. dog2:    https://www.etsy.com/it/listing/1773145055/adorabile-adesivo-del-cucciolo-di?external=1&rec_type=ad&ref=pla_similar_listing_top-4&plkey=b0c28822c6642500e3a5237000fb4bf8ce267aef%3A1773145055\n",
    "    3. \n",
    "6. Horse:\n",
    "    1. horse3:  https://www.horsejournals.com/horse-care/breeding/stallion/stallions-and-slippers\n",
    "7. Aeroplane\n",
    "    1. aeroplane5:  https://en.wikipedia.org/wiki/Fixed-wing_aircraft#/media/File:Santos-Dumont_flying_the_14_bis.jpg\n",
    "8. Automobile:\n",
    "    1. automobile2: https://m.media-amazon.com/images/I/51hmDLgf8yL._AC_SX679_.jpg"
   ]
  },
  {
   "cell_type": "markdown",
   "id": "95a9c99a",
   "metadata": {},
   "source": [
    "### Sketch:\n"
   ]
  },
  {
   "cell_type": "markdown",
   "id": "0f40acb9",
   "metadata": {},
   "source": [
    "## INFERENCE USING PHONE CAMERA"
   ]
  },
  {
   "cell_type": "code",
   "execution_count": 35,
   "id": "4f615905",
   "metadata": {},
   "outputs": [],
   "source": [
    "# while True:\n",
    "#     ret, frame = cap.read()\n",
    "#     if not ret:\n",
    "        \n",
    "#         break\n",
    "\n",
    "#     # Display the frame\n",
    "#     cv2.imshow('iPhone Camera Stream', frame)\n",
    "\n",
    "#     # Press 'q' to quit\n",
    "#     if cv2.waitKey(1) & 0xFF == ord('q'):\n",
    "#         break\n",
    "\n",
    "# cap.release()\n",
    "# cv2.destroyAllWindows()\n"
   ]
  },
  {
   "cell_type": "code",
   "execution_count": null,
   "id": "9bbbb658",
   "metadata": {},
   "outputs": [],
   "source": []
  }
 ],
 "metadata": {
  "kernelspec": {
   "display_name": "Python 3",
   "language": "python",
   "name": "python3"
  },
  "language_info": {
   "codemirror_mode": {
    "name": "ipython",
    "version": 3
   },
   "file_extension": ".py",
   "mimetype": "text/x-python",
   "name": "python",
   "nbconvert_exporter": "python",
   "pygments_lexer": "ipython3",
   "version": "3.9.18"
  },
  "widgets": {
   "application/vnd.jupyter.widget-state+json": {
    "state": {},
    "version_major": 2,
    "version_minor": 0
   }
  }
 },
 "nbformat": 4,
 "nbformat_minor": 5
}
